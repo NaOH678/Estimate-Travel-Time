{
 "cells": [
  {
   "cell_type": "code",
   "execution_count": 1,
   "id": "initial_id",
   "metadata": {
    "collapsed": true,
    "ExecuteTime": {
     "end_time": "2023-11-19T11:55:53.525446Z",
     "start_time": "2023-11-19T11:55:53.518829Z"
    }
   },
   "outputs": [],
   "source": [
    "import ujson as json\n"
   ]
  },
  {
   "cell_type": "code",
   "execution_count": 17,
   "outputs": [],
   "source": [
    "content = open('./data/train_00', 'r').readlines()\n",
    "\n",
    "y = map(lambda x: json.loads(x), content)"
   ],
   "metadata": {
    "collapsed": false,
    "ExecuteTime": {
     "end_time": "2023-11-19T12:19:13.956339Z",
     "start_time": "2023-11-19T12:19:13.946759Z"
    }
   },
   "id": "acd97ee0a987a81c"
  },
  {
   "cell_type": "code",
   "execution_count": 18,
   "outputs": [],
   "source": [
    "result = list(y)"
   ],
   "metadata": {
    "collapsed": false,
    "ExecuteTime": {
     "end_time": "2023-11-19T12:19:16.211850Z",
     "start_time": "2023-11-19T12:19:16.196323Z"
    }
   },
   "id": "52cb00429333daa8"
  },
  {
   "cell_type": "code",
   "execution_count": 27,
   "outputs": [
    {
     "data": {
      "text/plain": "22"
     },
     "execution_count": 27,
     "metadata": {},
     "output_type": "execute_result"
    }
   ],
   "source": [
    "len(result[0]['lngs'])"
   ],
   "metadata": {
    "collapsed": false,
    "ExecuteTime": {
     "end_time": "2023-11-19T12:21:05.500039Z",
     "start_time": "2023-11-19T12:21:05.495798Z"
    }
   },
   "id": "b8704b67ca81b56c"
  },
  {
   "cell_type": "code",
   "execution_count": 29,
   "outputs": [],
   "source": [
    "length = map(lambda x: len(x['lngs']), result)"
   ],
   "metadata": {
    "collapsed": false,
    "ExecuteTime": {
     "end_time": "2023-11-19T12:21:36.493761Z",
     "start_time": "2023-11-19T12:21:36.488667Z"
    }
   },
   "id": "3bb049d7c954e1fa"
  },
  {
   "cell_type": "code",
   "execution_count": 30,
   "outputs": [
    {
     "data": {
      "text/plain": "3600"
     },
     "execution_count": 30,
     "metadata": {},
     "output_type": "execute_result"
    }
   ],
   "source": [
    "len(list(length))"
   ],
   "metadata": {
    "collapsed": false,
    "ExecuteTime": {
     "end_time": "2023-11-19T12:21:38.126681Z",
     "start_time": "2023-11-19T12:21:38.123170Z"
    }
   },
   "id": "34ab920ff75aa152"
  },
  {
   "cell_type": "code",
   "execution_count": 41,
   "outputs": [],
   "source": [
    "import numpy as np\n",
    "from torch.nn.utils.rnn import pad_sequence\n",
    "\n",
    "def collate_fn(batch):\n",
    "    # 假设每个样本包含一个键为 'sequence' 的序列\n",
    "    sequences = np.asarray([np.pad(item['sequence'], (0, 6-len(item['sequence'])), mode='constant') for item in batch])\n",
    "    \n",
    "    # 使用 pad_sequence 函数将序列填充到相同的长度\n",
    "    # padded_sequences = pad_sequence(sequences, batch_first=True, padding_value=0)\n",
    "\n",
    "    return sequences\n",
    "\n",
    "\n",
    "# 用法示例：\n",
    "data = [{'sequence': [1, 2, 3]}, {'sequence': [4, 5, 6, 7]}]\n",
    "result = collate_fn(data)"
   ],
   "metadata": {
    "collapsed": false,
    "ExecuteTime": {
     "end_time": "2023-11-19T15:07:51.325048Z",
     "start_time": "2023-11-19T15:07:51.320526Z"
    }
   },
   "id": "82ca95b9b3abd3fc"
  },
  {
   "cell_type": "code",
   "execution_count": 43,
   "outputs": [
    {
     "name": "stdout",
     "output_type": "stream",
     "text": [
      "[[1 2 3 0 0 0]\n",
      " [4 5 6 7 0 0]]\n"
     ]
    }
   ],
   "source": [
    "print(result)"
   ],
   "metadata": {
    "collapsed": false,
    "ExecuteTime": {
     "end_time": "2023-11-19T15:08:12.716932Z",
     "start_time": "2023-11-19T15:08:12.711126Z"
    }
   },
   "id": "1919fcedf8617fc1"
  },
  {
   "cell_type": "code",
   "execution_count": 39,
   "outputs": [
    {
     "name": "stdout",
     "output_type": "stream",
     "text": [
      "Original Array: [1 2 3 4 5]\n",
      "Padded Array: [1 2 3 4 5 0 0 0 0 0]\n"
     ]
    }
   ],
   "source": [
    "import numpy as np\n",
    "\n",
    "# Create an example array\n",
    "original_array = np.array([1, 2, 3, 4, 5])\n",
    "\n",
    "# Pad the array to have a total size of 10, with zeros on both sides\n",
    "padded_array = np.pad(original_array, (0, 5), mode='constant')\n",
    "\n",
    "print(\"Original Array:\", original_array)\n",
    "print(\"Padded Array:\", padded_array)"
   ],
   "metadata": {
    "collapsed": false,
    "ExecuteTime": {
     "end_time": "2023-11-19T14:37:15.531636Z",
     "start_time": "2023-11-19T14:37:15.525857Z"
    }
   },
   "id": "17ff71ac7a19b3c"
  },
  {
   "cell_type": "code",
   "execution_count": null,
   "outputs": [],
   "source": [],
   "metadata": {
    "collapsed": false
   },
   "id": "ca147564a4185060"
  }
 ],
 "metadata": {
  "kernelspec": {
   "display_name": "Python 3",
   "language": "python",
   "name": "python3"
  },
  "language_info": {
   "codemirror_mode": {
    "name": "ipython",
    "version": 2
   },
   "file_extension": ".py",
   "mimetype": "text/x-python",
   "name": "python",
   "nbconvert_exporter": "python",
   "pygments_lexer": "ipython2",
   "version": "2.7.6"
  }
 },
 "nbformat": 4,
 "nbformat_minor": 5
}
